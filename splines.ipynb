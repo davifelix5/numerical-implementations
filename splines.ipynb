{
 "cells": [
  {
   "cell_type": "code",
   "execution_count": 33,
   "metadata": {},
   "outputs": [],
   "source": [
    "#   A forma mais comum de realizar aproximações polinomiais por partes é o uso de Splines Cúbicas # #   entre cada par de pontos sucessivos do domínio.                                               #\n",
    "#   Normalmente, um poninômio cúbico possui quatro constantes, então há flexibilidade suficiente  # #   na spline cúbica que o interpolante tem ma derivada contínua e uma segunda derivada           #"
   ]
  },
  {
   "cell_type": "code",
   "execution_count": 34,
   "metadata": {},
   "outputs": [],
   "source": [
    "import numbers as num\n",
    "import numpy as np"
   ]
  },
  {
   "cell_type": "code",
   "execution_count": 35,
   "metadata": {},
   "outputs": [
    {
     "name": "stdout",
     "output_type": "stream",
     "text": [
      "[2.0, 3.0, 4.0]\n"
     ]
    }
   ],
   "source": [
    "#definindo o intervalo de trabalho e pontos do domínio\n",
    "intervalo = input()\n",
    "n = int(input())\n",
    "extremos = list(map(float, intervalo.split()))\n",
    "\n",
    "#dividindo em subintervalos\n",
    "delta_x = (extremos[1] - extremos[0])/n\n",
    "subintervalos = []\n",
    "\n",
    "for i in range(n + 1):\n",
    "    x_i = extremos[0] + (delta_x * i)\n",
    "    subintervalos.append(x_i)"
   ]
  },
  {
   "cell_type": "code",
   "execution_count": 36,
   "metadata": {},
   "outputs": [
    {
     "name": "stdout",
     "output_type": "stream",
     "text": [
      "[2.0, 3.0, 4.0]\n"
     ]
    }
   ],
   "source": [
    "#definindo a função e sua derivada\n",
    "def f(x):\n",
    "    return x\n",
    "def f_linha(x):\n",
    "    return 1\n",
    "\n",
    "#definindo o vetor de parâmetros\n",
    "a_s = []\n",
    "for i in range(n + 1):\n",
    "    a_s.append(f(subintervalos[i]))\n",
    "\n",
    "#definindo os ultimos inputs\n",
    "fpo = f_linha(extremos[1])\n",
    "fpn = f_linha(extremos[0])\n",
    "\n",
    "#definindo os outputs\n",
    "aj = []\n",
    "bj = []\n",
    "cj = []\n",
    "dj = []"
   ]
  },
  {
   "cell_type": "code",
   "execution_count": 37,
   "metadata": {},
   "outputs": [],
   "source": [
    "#passo 1\n",
    "h = []\n",
    "for i in range(n):\n",
    "    h.append(subintervalos[i + 1] - subintervalos[i])\n",
    "\n",
    "#passo 2\n",
    "alpha_0 = (3*(a_s[1] - a_s[0])/h[0]) - 3*fpo\n",
    "alpha_n = 3*fpn - 3*(a_s[n] - a_s[n - 1])/h[n - 1]\n"
   ]
  },
  {
   "cell_type": "code",
   "execution_count": 39,
   "metadata": {},
   "outputs": [
    {
     "name": "stdout",
     "output_type": "stream",
     "text": [
      "[9.0, 0.0]\n"
     ]
    }
   ],
   "source": [
    "#passo 3\n",
    "alphas = []\n",
    "for i in range(n):\n",
    "    alpha_i = ((3*(a_s[i + 1] - a_s[i]))/h[i])  -  ((3*(a_s[i] - a_s[i - 1]))/h[i - 1])\n",
    "    alphas.append(alpha_i)\n",
    "print(alphas)"
   ]
  },
  {
   "cell_type": "code",
   "execution_count": null,
   "metadata": {},
   "outputs": [],
   "source": [
    "#passo 4"
   ]
  }
 ],
 "metadata": {
  "kernelspec": {
   "display_name": "Python 3",
   "language": "python",
   "name": "python3"
  },
  "language_info": {
   "codemirror_mode": {
    "name": "ipython",
    "version": 3
   },
   "file_extension": ".py",
   "mimetype": "text/x-python",
   "name": "python",
   "nbconvert_exporter": "python",
   "pygments_lexer": "ipython3",
   "version": "3.11.8"
  }
 },
 "nbformat": 4,
 "nbformat_minor": 2
}
